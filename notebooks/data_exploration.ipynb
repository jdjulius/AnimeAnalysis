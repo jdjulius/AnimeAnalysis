{
 "cells": [
  {
   "attachments": {},
   "cell_type": "markdown",
   "metadata": {},
   "source": [
    "### Imports and archives"
   ]
  },
  {
   "cell_type": "code",
   "execution_count": 11,
   "metadata": {},
   "outputs": [],
   "source": [
    "import findspark\n",
    "findspark.init()\n",
    "\n",
    "from pyspark.sql import SparkSession\n",
    "\n",
    "spark = SparkSession.builder.appName('AnimeAnalysis').getOrCreate()"
   ]
  },
  {
   "cell_type": "code",
   "execution_count": 12,
   "metadata": {},
   "outputs": [],
   "source": [
    "anime = spark.read.csv('../data/raw/anime.csv', header=True, inferSchema=True)\n",
    "rating = spark.read.csv('../data/raw/rating.csv', header=True, inferSchema=True)\n"
   ]
  },
  {
   "attachments": {},
   "cell_type": "markdown",
   "metadata": {},
   "source": [
    "### Data set Anime"
   ]
  },
  {
   "cell_type": "code",
   "execution_count": 15,
   "metadata": {},
   "outputs": [
    {
     "name": "stdout",
     "output_type": "stream",
     "text": [
      "root\n",
      " |-- anime_id: integer (nullable = true)\n",
      " |-- name: string (nullable = true)\n",
      " |-- genre: string (nullable = true)\n",
      " |-- type: string (nullable = true)\n",
      " |-- episodes: string (nullable = true)\n",
      " |-- rating: double (nullable = true)\n",
      " |-- members: integer (nullable = true)\n",
      "\n",
      "+--------+--------------------+--------------------+-----+--------+------+-------+\n",
      "|anime_id|                name|               genre| type|episodes|rating|members|\n",
      "+--------+--------------------+--------------------+-----+--------+------+-------+\n",
      "|   32281|      Kimi no Na wa.|Drama, Romance, S...|Movie|       1|  9.37| 200630|\n",
      "|    5114|Fullmetal Alchemi...|Action, Adventure...|   TV|      64|  9.26| 793665|\n",
      "|   28977|            Gintama°|Action, Comedy, H...|   TV|      51|  9.25| 114262|\n",
      "|    9253|         Steins;Gate|    Sci-Fi, Thriller|   TV|      24|  9.17| 673572|\n",
      "|    9969|       Gintama&#039;|Action, Comedy, H...|   TV|      51|  9.16| 151266|\n",
      "+--------+--------------------+--------------------+-----+--------+------+-------+\n",
      "only showing top 5 rows\n",
      "\n",
      "El número de registros en el DataFrame ANIME es: 12294\n",
      "(12294, 7)\n"
     ]
    }
   ],
   "source": [
    "# Mostrar la estructura del DataFrame\n",
    "anime.printSchema()\n",
    "\n",
    "# Mostrar los primeros 5 registros\n",
    "anime.show(5)\n",
    "\n",
    "# Contar el número de registros en el DataFrame\n",
    "count = anime.count()\n",
    "print('El número de registros en el DataFrame ANIME es:', count)\n",
    "\n",
    "print((anime.count(), len(anime.columns)))"
   ]
  },
  {
   "attachments": {},
   "cell_type": "markdown",
   "metadata": {},
   "source": [
    "### Data set Rating"
   ]
  },
  {
   "cell_type": "code",
   "execution_count": 16,
   "metadata": {},
   "outputs": [
    {
     "name": "stdout",
     "output_type": "stream",
     "text": [
      "root\n",
      " |-- user_id: integer (nullable = true)\n",
      " |-- anime_id: integer (nullable = true)\n",
      " |-- rating: integer (nullable = true)\n",
      "\n",
      "+-------+--------+------+\n",
      "|user_id|anime_id|rating|\n",
      "+-------+--------+------+\n",
      "|      1|      20|    -1|\n",
      "|      1|      24|    -1|\n",
      "|      1|      79|    -1|\n",
      "|      1|     226|    -1|\n",
      "|      1|     241|    -1|\n",
      "+-------+--------+------+\n",
      "only showing top 5 rows\n",
      "\n",
      "El número de registros en el DataFrame ANIME es: 7813737\n",
      "(7813737, 3)\n"
     ]
    }
   ],
   "source": [
    "rating.printSchema()\n",
    "\n",
    "# Mostrar los primeros 5 registros\n",
    "rating.show(5)\n",
    "\n",
    "# Contar el número de registros en el DataFrame\n",
    "count = rating.count()\n",
    "print('El número de registros en el DataFrame ANIME es:', count)\n",
    "\n",
    "print((rating.count(), len(rating.columns)))"
   ]
  },
  {
   "attachments": {},
   "cell_type": "markdown",
   "metadata": {},
   "source": [
    "### Join  Anime - Rating"
   ]
  },
  {
   "cell_type": "code",
   "execution_count": 17,
   "metadata": {},
   "outputs": [],
   "source": [
    "df = anime.join(rating, anime.anime_id == rating.anime_id, 'inner')"
   ]
  },
  {
   "cell_type": "code",
   "execution_count": 18,
   "metadata": {},
   "outputs": [
    {
     "name": "stdout",
     "output_type": "stream",
     "text": [
      "root\n",
      " |-- anime_id: integer (nullable = true)\n",
      " |-- name: string (nullable = true)\n",
      " |-- genre: string (nullable = true)\n",
      " |-- type: string (nullable = true)\n",
      " |-- episodes: string (nullable = true)\n",
      " |-- rating: double (nullable = true)\n",
      " |-- members: integer (nullable = true)\n",
      " |-- user_id: integer (nullable = true)\n",
      " |-- anime_id: integer (nullable = true)\n",
      " |-- rating: integer (nullable = true)\n",
      "\n",
      "+--------+--------------------+--------------------+----+--------+------+-------+-------+--------+------+\n",
      "|anime_id|                name|               genre|type|episodes|rating|members|user_id|anime_id|rating|\n",
      "+--------+--------------------+--------------------+----+--------+------+-------+-------+--------+------+\n",
      "|      20|              Naruto|Action, Comedy, M...|  TV|     220|  7.81| 683297|      1|      20|    -1|\n",
      "|      24|       School Rumble|Comedy, Romance, ...|  TV|      26|  8.06| 178553|      1|      24|    -1|\n",
      "|      79|            Shuffle!|Comedy, Drama, Ec...|  TV|      24|  7.31| 158772|      1|      79|    -1|\n",
      "|     226|          Elfen Lied|Action, Drama, Ho...|  TV|      13|  7.85| 623511|      1|     226|    -1|\n",
      "|     241|Girls Bravo: Firs...|Comedy, Ecchi, Fa...|  TV|      11|  6.69|  84395|      1|     241|    -1|\n",
      "+--------+--------------------+--------------------+----+--------+------+-------+-------+--------+------+\n",
      "only showing top 5 rows\n",
      "\n",
      "El número de registros en el DataFrame ANIME es: 7813727\n",
      "(7813727, 10)\n"
     ]
    }
   ],
   "source": [
    "df.printSchema()\n",
    "\n",
    "# Mostrar los primeros 5 registros\n",
    "df.show(5)\n",
    "\n",
    "# Contar el número de registros en el DataFrame\n",
    "count = df.count()\n",
    "print('El número de registros en el DataFrame ANIME es:', count)\n",
    "\n",
    "print((df.count(), len(df.columns)))"
   ]
  },
  {
   "attachments": {},
   "cell_type": "markdown",
   "metadata": {},
   "source": [
    "### Terminar Spark Session"
   ]
  },
  {
   "cell_type": "code",
   "execution_count": null,
   "metadata": {},
   "outputs": [],
   "source": [
    "# Cerrar SparkSession\n",
    "spark.stop()"
   ]
  }
 ],
 "metadata": {
  "kernelspec": {
   "display_name": "Python 3.11.0 64-bit",
   "language": "python",
   "name": "python3"
  },
  "language_info": {
   "codemirror_mode": {
    "name": "ipython",
    "version": 3
   },
   "file_extension": ".py",
   "mimetype": "text/x-python",
   "name": "python",
   "nbconvert_exporter": "python",
   "pygments_lexer": "ipython3",
   "version": "3.11.0"
  },
  "orig_nbformat": 4,
  "vscode": {
   "interpreter": {
    "hash": "43daf46ee1a2bec30820ad54ca49c547678bba27ad881deae1888b1ba966de35"
   }
  }
 },
 "nbformat": 4,
 "nbformat_minor": 2
}
