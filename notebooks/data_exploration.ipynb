{
 "cells": [
  {
   "cell_type": "code",
   "execution_count": 10,
   "metadata": {},
   "outputs": [
    {
     "name": "stdout",
     "output_type": "stream",
     "text": [
      "root\n",
      " |-- anime_id: integer (nullable = true)\n",
      " |-- name: string (nullable = true)\n",
      " |-- genre: string (nullable = true)\n",
      " |-- type: string (nullable = true)\n",
      " |-- episodes: string (nullable = true)\n",
      " |-- rating: double (nullable = true)\n",
      " |-- members: integer (nullable = true)\n",
      "\n",
      "+--------+--------------------+--------------------+-----+--------+------+-------+\n",
      "|anime_id|                name|               genre| type|episodes|rating|members|\n",
      "+--------+--------------------+--------------------+-----+--------+------+-------+\n",
      "|   32281|      Kimi no Na wa.|Drama, Romance, S...|Movie|       1|  9.37| 200630|\n",
      "|    5114|Fullmetal Alchemi...|Action, Adventure...|   TV|      64|  9.26| 793665|\n",
      "|   28977|            Gintama°|Action, Comedy, H...|   TV|      51|  9.25| 114262|\n",
      "|    9253|         Steins;Gate|    Sci-Fi, Thriller|   TV|      24|  9.17| 673572|\n",
      "|    9969|       Gintama&#039;|Action, Comedy, H...|   TV|      51|  9.16| 151266|\n",
      "+--------+--------------------+--------------------+-----+--------+------+-------+\n",
      "only showing top 5 rows\n",
      "\n",
      "El número de registros en el DataFrame es: 12294\n",
      "El promedio de la columna es: 6.473901690981445\n"
     ]
    }
   ],
   "source": [
    "import findspark\n",
    "findspark.init()\n",
    "\n",
    "# Importar las librerías necesarias\n",
    "from pyspark.sql import SparkSession\n",
    "\n",
    "# Inicializar SparkSession\n",
    "spark = SparkSession.builder.appName('ejemplo').getOrCreate()\n",
    "\n",
    "# Cargar el archivo CSV\n",
    "df = spark.read.csv('../data/raw/anime.csv', header=True, inferSchema=True)\n",
    "\n",
    "# Mostrar la estructura del DataFrame\n",
    "df.printSchema()\n",
    "\n",
    "# Mostrar los primeros 5 registros\n",
    "df.show(5)\n",
    "\n",
    "# Contar el número de registros en el DataFrame\n",
    "count = df.count()\n",
    "print('El número de registros en el DataFrame es:', count)\n",
    "\n",
    "# Calcular el promedio de una columna\n",
    "promedio = df.select('rating').agg({'rating': 'avg'}).collect()[0][0]\n",
    "print('El promedio de la columna es:', promedio)\n",
    "\n",
    "# Cerrar SparkSession\n",
    "spark.stop()"
   ]
  }
 ],
 "metadata": {
  "kernelspec": {
   "display_name": "Python 3.11.0 64-bit",
   "language": "python",
   "name": "python3"
  },
  "language_info": {
   "codemirror_mode": {
    "name": "ipython",
    "version": 3
   },
   "file_extension": ".py",
   "mimetype": "text/x-python",
   "name": "python",
   "nbconvert_exporter": "python",
   "pygments_lexer": "ipython3",
   "version": "3.11.0"
  },
  "orig_nbformat": 4,
  "vscode": {
   "interpreter": {
    "hash": "43daf46ee1a2bec30820ad54ca49c547678bba27ad881deae1888b1ba966de35"
   }
  }
 },
 "nbformat": 4,
 "nbformat_minor": 2
}
